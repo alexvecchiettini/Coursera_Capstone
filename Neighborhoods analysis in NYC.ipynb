{
 "cells": [
  {
   "cell_type": "markdown",
   "metadata": {
    "collapsed": true
   },
   "source": [
    "<h1 align=center><font size = 7> Correlation between Neighborhoods economical situation and popular venues in New York City</font></h1>"
   ]
  },
  {
   "cell_type": "markdown",
   "metadata": {},
   "source": [
    "# 1. Introduction"
   ]
  },
  {
   "cell_type": "markdown",
   "metadata": {},
   "source": [
    "Neighborhoods are complex systems and various different variables are at play, the goal of this study is to gather data and consider social economic variables and their correlations.  \n",
    "For this pourpose median household income, median rent (for 2-Bed room apartment will be used as reference) and most popular venues will be taken into account. \n",
    "This study will be applied to the city of New York.  \n",
    "Our goal is to answer 2 main problems:\n",
    "1. Analyze the affordability of comparable neighborhoods (by venues offering) to better inform a person interested in moving.\n",
    "2. Establish (if any) a correlation between median income and popular venues to help a prospect entrepreneur deciding the best location for his/her business. "
   ]
  },
  {
   "cell_type": "markdown",
   "metadata": {},
   "source": [
    "# 2. Methodology "
   ]
  },
  {
   "cell_type": "markdown",
   "metadata": {},
   "source": [
    "## 2.1 Data sources"
   ]
  },
  {
   "cell_type": "markdown",
   "metadata": {},
   "source": [
    "* The geography of NYC neighborhoods will be based on the dataset over at https://geo.nyu.edu/catalog/nyu_2451_34572 that has already been downloaded to https://cocl.us/new_york_dataset and is reachable with a wget.\n",
    "* Data for the median income and rent cost (for a 2BR apartment) by neighborhood will be gathered from the website renthop.com (https://www.renthop.com/study/assets/new-york-city-cost-of-living-2017/nyc-2br-median-rent-and-income-table.html and  https://www.renthop.com/study/assets/new-york-city-cost-of-living-2017/nyc_2br.json).  \n",
    "* The venues data will be retrieved from FourSquare.com using the API provided.  "
   ]
  },
  {
   "cell_type": "markdown",
   "metadata": {},
   "source": [
    "## 2.2 Data retrieval "
   ]
  },
  {
   "cell_type": "markdown",
   "metadata": {},
   "source": [
    "Proceding with the necessary import"
   ]
  },
  {
   "cell_type": "code",
   "execution_count": null,
   "metadata": {},
   "outputs": [],
   "source": [
    "# uncomment the following line if geopy isn't installed\n",
    "#!conda install -c conda-forge geopy --yes \n",
    "\n",
    "# uncomment the following line if folium isn't installed\n",
    "#!conda install -c conda-forge folium=0.5.0 --yes \n",
    "\n",
    "\n",
    "# install BeautifulSoup and requests\n",
    "!pip install beautifulsoup4\n",
    "!pip install requests\n",
    "!pip install lxml\n",
    "\n",
    "# library to handle data in a vectorized manner\n",
    "import numpy as np \n",
    "\n",
    "# library for data analsysis\n",
    "import pandas as pd \n",
    "from pandas import json_normalize # tranform JSON file into a pandas dataframe\n",
    "\n",
    "# import BeautifulSoup\n",
    "from bs4 import BeautifulSoup\n",
    "\n",
    "# library to handle JSON files\n",
    "import json\n",
    "\n",
    "# convert an address into latitude and longitude values\n",
    "from geopy.geocoders import Nominatim \n",
    "\n",
    "# library to handle http requests\n",
    "import requests \n",
    "\n",
    "# Matplotlib and associated plotting modules\n",
    "import matplotlib.cm as cm\n",
    "import matplotlib.colors as colors\n",
    "\n",
    "# import k-means from clustering stage\n",
    "from sklearn.cluster import KMeans\n",
    "\n",
    "# map rendering library\n",
    "import folium \n",
    "\n",
    "\n",
    "print('Libraries imported.')"
   ]
  },
  {
   "cell_type": "markdown",
   "metadata": {},
   "source": [
    "Let's proceed with the download of the dataset of New York Neighborhoods Geography which comes as a Json file."
   ]
  },
  {
   "cell_type": "code",
   "execution_count": null,
   "metadata": {},
   "outputs": [],
   "source": [
    "url = 'https://cocl.us/new_york_dataset'\n",
    "filename = 'newyork_data.json'\n",
    "response = requests.get(url)\n",
    "file = open(filename, \"w\")\n",
    "file.write(response.text)\n",
    "with open('newyork_data.json') as json_data:\n",
    "    newyork_data = json.load(json_data)\n",
    "newyork_data"
   ]
  },
  {
   "cell_type": "markdown",
   "metadata": {},
   "source": [
    "Analyzing the content we can notice many information are available in this set, for the sake of this study from this josn we need to retrieve the Borough and Neighborhood name along with it's Latitude and Longitude.  \n",
    "These informations are available in each feature instance at __properties.borough__, __properties.name__, __geometry.coordinates__ respectively.  \n",
    "Let's create the Pandas DF and fill it with the relevant information."
   ]
  },
  {
   "cell_type": "code",
   "execution_count": 27,
   "metadata": {},
   "outputs": [
    {
     "data": {
      "text/html": [
       "<div>\n",
       "<style scoped>\n",
       "    .dataframe tbody tr th:only-of-type {\n",
       "        vertical-align: middle;\n",
       "    }\n",
       "\n",
       "    .dataframe tbody tr th {\n",
       "        vertical-align: top;\n",
       "    }\n",
       "\n",
       "    .dataframe thead th {\n",
       "        text-align: right;\n",
       "    }\n",
       "</style>\n",
       "<table border=\"1\" class=\"dataframe\">\n",
       "  <thead>\n",
       "    <tr style=\"text-align: right;\">\n",
       "      <th></th>\n",
       "      <th>Borough</th>\n",
       "      <th>Neighborhood</th>\n",
       "      <th>Latitude</th>\n",
       "      <th>Longitude</th>\n",
       "    </tr>\n",
       "  </thead>\n",
       "  <tbody>\n",
       "    <tr>\n",
       "      <th>0</th>\n",
       "      <td>Bronx</td>\n",
       "      <td>Wakefield</td>\n",
       "      <td>40.894705</td>\n",
       "      <td>-73.847201</td>\n",
       "    </tr>\n",
       "    <tr>\n",
       "      <th>1</th>\n",
       "      <td>Bronx</td>\n",
       "      <td>Co-op City</td>\n",
       "      <td>40.874294</td>\n",
       "      <td>-73.829939</td>\n",
       "    </tr>\n",
       "    <tr>\n",
       "      <th>2</th>\n",
       "      <td>Bronx</td>\n",
       "      <td>Eastchester</td>\n",
       "      <td>40.887556</td>\n",
       "      <td>-73.827806</td>\n",
       "    </tr>\n",
       "    <tr>\n",
       "      <th>3</th>\n",
       "      <td>Bronx</td>\n",
       "      <td>Fieldston</td>\n",
       "      <td>40.895437</td>\n",
       "      <td>-73.905643</td>\n",
       "    </tr>\n",
       "    <tr>\n",
       "      <th>4</th>\n",
       "      <td>Bronx</td>\n",
       "      <td>Riverdale</td>\n",
       "      <td>40.890834</td>\n",
       "      <td>-73.912585</td>\n",
       "    </tr>\n",
       "  </tbody>\n",
       "</table>\n",
       "</div>"
      ],
      "text/plain": [
       "  Borough Neighborhood   Latitude  Longitude\n",
       "0   Bronx    Wakefield  40.894705 -73.847201\n",
       "1   Bronx   Co-op City  40.874294 -73.829939\n",
       "2   Bronx  Eastchester  40.887556 -73.827806\n",
       "3   Bronx    Fieldston  40.895437 -73.905643\n",
       "4   Bronx    Riverdale  40.890834 -73.912585"
      ]
     },
     "execution_count": 27,
     "metadata": {},
     "output_type": "execute_result"
    }
   ],
   "source": [
    "neighborhoods_data = newyork_data['features']\n",
    "\n",
    "# define the dataframe columns\n",
    "column_names = ['Borough', 'Neighborhood', 'Latitude', 'Longitude'] \n",
    "\n",
    "# instantiate the dataframe\n",
    "neighborhoods = pd.DataFrame(columns=column_names)\n",
    "\n",
    "for data in neighborhoods_data:\n",
    "    borough = neighborhood_name = data['properties']['borough'] \n",
    "    neighborhood_name = data['properties']['name']\n",
    "        \n",
    "    neighborhood_latlon = data['geometry']['coordinates']\n",
    "    neighborhood_lat = neighborhood_latlon[1]\n",
    "    neighborhood_lon = neighborhood_latlon[0]\n",
    "    \n",
    "    neighborhoods = neighborhoods.append({'Borough': borough,\n",
    "                                          'Neighborhood': neighborhood_name,\n",
    "                                          'Latitude': neighborhood_lat,\n",
    "                                          'Longitude': neighborhood_lon}, ignore_index=True)\n",
    "\n",
    "neighborhoods.head()"
   ]
  },
  {
   "cell_type": "markdown",
   "metadata": {},
   "source": [
    "We can now proceed with the retrieval of the data about neighborhoods median income and rent price.  "
   ]
  },
  {
   "cell_type": "markdown",
   "metadata": {},
   "source": [
    "The content of the table is generated dynamically but luckily a json with all the information is available at https://www.renthop.com/study/assets/new-york-city-cost-of-living-2017/nyc_2br.json so we will proceed to parse said json and store it into a df."
   ]
  },
  {
   "cell_type": "code",
   "execution_count": null,
   "metadata": {},
   "outputs": [],
   "source": [
    "url = 'https://www.renthop.com/study/assets/new-york-city-cost-of-living-2017/nyc_2br.json'\n",
    "filename = 'newyork_income_data.json'\n",
    "response = requests.get(url)\n",
    "file = open(filename, \"w\")\n",
    "file.write(response.text)\n",
    "with open('newyork_income_data.json') as json_income_data:\n",
    "    newyork_income_data = json.load(json_income_data)\n",
    "newyork_income_data"
   ]
  },
  {
   "cell_type": "markdown",
   "metadata": {},
   "source": [
    "This one is much more straightforward than the previous json we parsed and we can just access the node 'data' and let json_normalize create the Data Frame for us."
   ]
  },
  {
   "cell_type": "code",
   "execution_count": 29,
   "metadata": {},
   "outputs": [
    {
     "data": {
      "text/html": [
       "<div>\n",
       "<style scoped>\n",
       "    .dataframe tbody tr th:only-of-type {\n",
       "        vertical-align: middle;\n",
       "    }\n",
       "\n",
       "    .dataframe tbody tr th {\n",
       "        vertical-align: top;\n",
       "    }\n",
       "\n",
       "    .dataframe thead th {\n",
       "        text-align: right;\n",
       "    }\n",
       "</style>\n",
       "<table border=\"1\" class=\"dataframe\">\n",
       "  <thead>\n",
       "    <tr style=\"text-align: right;\">\n",
       "      <th></th>\n",
       "      <th>Neighborhood</th>\n",
       "      <th>Borough</th>\n",
       "      <th>house_income</th>\n",
       "      <th>median2</th>\n",
       "      <th>perc_income</th>\n",
       "      <th>income4_2Br</th>\n",
       "    </tr>\n",
       "  </thead>\n",
       "  <tbody>\n",
       "    <tr>\n",
       "      <th>0</th>\n",
       "      <td>Upper East Side-Carnegie Hill</td>\n",
       "      <td>Manhattan</td>\n",
       "      <td>155213</td>\n",
       "      <td>3555.0</td>\n",
       "      <td>0.274848</td>\n",
       "      <td>142200</td>\n",
       "    </tr>\n",
       "    <tr>\n",
       "      <th>1</th>\n",
       "      <td>Great Kills</td>\n",
       "      <td>Staten Island</td>\n",
       "      <td>88868</td>\n",
       "      <td>2050.0</td>\n",
       "      <td>0.276815</td>\n",
       "      <td>82000</td>\n",
       "    </tr>\n",
       "    <tr>\n",
       "      <th>2</th>\n",
       "      <td>Whitestone</td>\n",
       "      <td>Queens</td>\n",
       "      <td>80546</td>\n",
       "      <td>1950.0</td>\n",
       "      <td>0.290517</td>\n",
       "      <td>78000</td>\n",
       "    </tr>\n",
       "    <tr>\n",
       "      <th>3</th>\n",
       "      <td>New Dorp-Midland Beach</td>\n",
       "      <td>Staten Island</td>\n",
       "      <td>78100</td>\n",
       "      <td>1900.0</td>\n",
       "      <td>0.291933</td>\n",
       "      <td>76000</td>\n",
       "    </tr>\n",
       "    <tr>\n",
       "      <th>4</th>\n",
       "      <td>Bayside-Bayside Hills</td>\n",
       "      <td>Queens</td>\n",
       "      <td>79120</td>\n",
       "      <td>2176.0</td>\n",
       "      <td>0.330030</td>\n",
       "      <td>87040</td>\n",
       "    </tr>\n",
       "  </tbody>\n",
       "</table>\n",
       "</div>"
      ],
      "text/plain": [
       "                    Neighborhood        Borough  house_income  median2  \\\n",
       "0  Upper East Side-Carnegie Hill      Manhattan        155213   3555.0   \n",
       "1                    Great Kills  Staten Island         88868   2050.0   \n",
       "2                     Whitestone         Queens         80546   1950.0   \n",
       "3         New Dorp-Midland Beach  Staten Island         78100   1900.0   \n",
       "4          Bayside-Bayside Hills         Queens         79120   2176.0   \n",
       "\n",
       "   perc_income  income4_2Br  \n",
       "0     0.274848       142200  \n",
       "1     0.276815        82000  \n",
       "2     0.290517        78000  \n",
       "3     0.291933        76000  \n",
       "4     0.330030        87040  "
      ]
     },
     "execution_count": 29,
     "metadata": {},
     "output_type": "execute_result"
    }
   ],
   "source": [
    "neighborhoods_income_data = newyork_income_data['data']\n",
    "\n",
    "neighborhoods_income = json_normalize(neighborhoods_income_data)\n",
    "neighborhoods_income.head()"
   ]
  }
 ],
 "metadata": {
  "kernelspec": {
   "display_name": "Python 3",
   "language": "python",
   "name": "python3"
  },
  "language_info": {
   "codemirror_mode": {
    "name": "ipython",
    "version": 3
   },
   "file_extension": ".py",
   "mimetype": "text/x-python",
   "name": "python",
   "nbconvert_exporter": "python",
   "pygments_lexer": "ipython3",
   "version": "3.7.6"
  }
 },
 "nbformat": 4,
 "nbformat_minor": 1
}
